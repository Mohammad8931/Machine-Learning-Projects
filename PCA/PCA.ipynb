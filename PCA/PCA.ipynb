{
 "cells": [
  {
   "cell_type": "markdown",
   "id": "50e78abd",
   "metadata": {},
   "source": [
    "# Linear Algebra in Data Science\n",
    "# Project Done by Jimy Salem & Mohammad Masarra \n",
    "\n",
    "One of the most used principles in Data Science rising from linear algebra is PCA\n",
    "\n",
    "PCA stands for principal component analysis which is a dimensionality reduction method used for large set\n",
    "\n",
    "It is done using the following methods:\n",
    " 1. Standarize a  dataset\n",
    " 2. Computing the covariance matrix\n",
    " 3. Computing the eigenvalues and eigenvectors\n",
    " 4. Deciding the principal components to keep\n",
    " 5. Recast data along the principal components axes\n",
    " \n",
    " ### The goal:\n",
    " \n",
    "The goal of PCA is to reduce the dimensionality of the data from 4 features to 2 features, so that we can visualize the dataset while preserving as much variance as possible"
   ]
  },
  {
   "cell_type": "markdown",
   "id": "79f36129",
   "metadata": {},
   "source": [
    "# a. Import the data set\n",
    "\n",
    "The data set is a random data set which takes 50 fighters with information of age, weight, height, training time/week, and we are going to apply \n",
    "PCA on this simple dataset to reduce the number of features so that we can visualize the dataset"
   ]
  },
  {
   "cell_type": "code",
   "execution_count": 25,
   "id": "3a946b91",
   "metadata": {},
   "outputs": [
    {
     "data": {
      "text/html": [
       "<div>\n",
       "<style scoped>\n",
       "    .dataframe tbody tr th:only-of-type {\n",
       "        vertical-align: middle;\n",
       "    }\n",
       "\n",
       "    .dataframe tbody tr th {\n",
       "        vertical-align: top;\n",
       "    }\n",
       "\n",
       "    .dataframe thead th {\n",
       "        text-align: right;\n",
       "    }\n",
       "</style>\n",
       "<table border=\"1\" class=\"dataframe\">\n",
       "  <thead>\n",
       "    <tr style=\"text-align: right;\">\n",
       "      <th></th>\n",
       "      <th>age</th>\n",
       "      <th>weight</th>\n",
       "      <th>height</th>\n",
       "      <th>training time</th>\n",
       "      <th>number of wins</th>\n",
       "    </tr>\n",
       "  </thead>\n",
       "  <tbody>\n",
       "    <tr>\n",
       "      <th>0</th>\n",
       "      <td>25</td>\n",
       "      <td>119</td>\n",
       "      <td>194</td>\n",
       "      <td>27</td>\n",
       "      <td>5</td>\n",
       "    </tr>\n",
       "    <tr>\n",
       "      <th>1</th>\n",
       "      <td>30</td>\n",
       "      <td>92</td>\n",
       "      <td>190</td>\n",
       "      <td>24</td>\n",
       "      <td>6</td>\n",
       "    </tr>\n",
       "    <tr>\n",
       "      <th>2</th>\n",
       "      <td>23</td>\n",
       "      <td>83</td>\n",
       "      <td>194</td>\n",
       "      <td>49</td>\n",
       "      <td>10</td>\n",
       "    </tr>\n",
       "    <tr>\n",
       "      <th>3</th>\n",
       "      <td>29</td>\n",
       "      <td>94</td>\n",
       "      <td>177</td>\n",
       "      <td>24</td>\n",
       "      <td>9</td>\n",
       "    </tr>\n",
       "    <tr>\n",
       "      <th>4</th>\n",
       "      <td>28</td>\n",
       "      <td>87</td>\n",
       "      <td>178</td>\n",
       "      <td>54</td>\n",
       "      <td>1</td>\n",
       "    </tr>\n",
       "  </tbody>\n",
       "</table>\n",
       "</div>"
      ],
      "text/plain": [
       "   age  weight  height  training time  number of wins\n",
       "0   25     119     194             27               5\n",
       "1   30      92     190             24               6\n",
       "2   23      83     194             49              10\n",
       "3   29      94     177             24               9\n",
       "4   28      87     178             54               1"
      ]
     },
     "execution_count": 25,
     "metadata": {},
     "output_type": "execute_result"
    }
   ],
   "source": [
    "import pandas as pd\n",
    "import numpy as np\n",
    "df = pd.read_csv(r\"Random_DataSet.csv\")\n",
    "df.head()"
   ]
  },
  {
   "cell_type": "code",
   "execution_count": 33,
   "id": "76874898",
   "metadata": {},
   "outputs": [
    {
     "data": {
      "text/plain": [
       "age               0\n",
       "weight            0\n",
       "height            0\n",
       "training time     0\n",
       "number of wins    0\n",
       "dtype: int64"
      ]
     },
     "execution_count": 33,
     "metadata": {},
     "output_type": "execute_result"
    }
   ],
   "source": [
    "# checking if the dataset contain null values\n",
    "df.isnull().sum()"
   ]
  },
  {
   "cell_type": "code",
   "execution_count": 28,
   "id": "d0586556",
   "metadata": {},
   "outputs": [
    {
     "data": {
      "text/html": [
       "<div>\n",
       "<style scoped>\n",
       "    .dataframe tbody tr th:only-of-type {\n",
       "        vertical-align: middle;\n",
       "    }\n",
       "\n",
       "    .dataframe tbody tr th {\n",
       "        vertical-align: top;\n",
       "    }\n",
       "\n",
       "    .dataframe thead th {\n",
       "        text-align: right;\n",
       "    }\n",
       "</style>\n",
       "<table border=\"1\" class=\"dataframe\">\n",
       "  <thead>\n",
       "    <tr style=\"text-align: right;\">\n",
       "      <th></th>\n",
       "      <th>age</th>\n",
       "      <th>weight</th>\n",
       "      <th>height</th>\n",
       "      <th>training time</th>\n",
       "    </tr>\n",
       "  </thead>\n",
       "  <tbody>\n",
       "    <tr>\n",
       "      <th>0</th>\n",
       "      <td>25</td>\n",
       "      <td>119</td>\n",
       "      <td>194</td>\n",
       "      <td>27</td>\n",
       "    </tr>\n",
       "    <tr>\n",
       "      <th>1</th>\n",
       "      <td>30</td>\n",
       "      <td>92</td>\n",
       "      <td>190</td>\n",
       "      <td>24</td>\n",
       "    </tr>\n",
       "    <tr>\n",
       "      <th>2</th>\n",
       "      <td>23</td>\n",
       "      <td>83</td>\n",
       "      <td>194</td>\n",
       "      <td>49</td>\n",
       "    </tr>\n",
       "    <tr>\n",
       "      <th>3</th>\n",
       "      <td>29</td>\n",
       "      <td>94</td>\n",
       "      <td>177</td>\n",
       "      <td>24</td>\n",
       "    </tr>\n",
       "    <tr>\n",
       "      <th>4</th>\n",
       "      <td>28</td>\n",
       "      <td>87</td>\n",
       "      <td>178</td>\n",
       "      <td>54</td>\n",
       "    </tr>\n",
       "  </tbody>\n",
       "</table>\n",
       "</div>"
      ],
      "text/plain": [
       "   age  weight  height  training time\n",
       "0   25     119     194             27\n",
       "1   30      92     190             24\n",
       "2   23      83     194             49\n",
       "3   29      94     177             24\n",
       "4   28      87     178             54"
      ]
     },
     "execution_count": 28,
     "metadata": {},
     "output_type": "execute_result"
    }
   ],
   "source": [
    "df1 = df.copy\n",
    "df1 = df[[\"age\",\"weight\",\"height\",\"training time\"]]\n",
    "\n",
    "df1.head()"
   ]
  },
  {
   "cell_type": "markdown",
   "id": "ef88bdb6",
   "metadata": {},
   "source": [
    "## b. Standarize the data\n",
    "\n",
    "##### standardize means centering data around zero so that mean of each feature is 0, we do standardize to ensure that \n",
    "##### features with large values do not dominate features with small values"
   ]
  },
  {
   "cell_type": "code",
   "execution_count": 38,
   "id": "fa5f85c9",
   "metadata": {},
   "outputs": [
    {
     "data": {
      "text/html": [
       "<div>\n",
       "<style scoped>\n",
       "    .dataframe tbody tr th:only-of-type {\n",
       "        vertical-align: middle;\n",
       "    }\n",
       "\n",
       "    .dataframe tbody tr th {\n",
       "        vertical-align: top;\n",
       "    }\n",
       "\n",
       "    .dataframe thead th {\n",
       "        text-align: right;\n",
       "    }\n",
       "</style>\n",
       "<table border=\"1\" class=\"dataframe\">\n",
       "  <thead>\n",
       "    <tr style=\"text-align: right;\">\n",
       "      <th></th>\n",
       "      <th>age</th>\n",
       "      <th>weight</th>\n",
       "      <th>height</th>\n",
       "      <th>training time</th>\n",
       "    </tr>\n",
       "  </thead>\n",
       "  <tbody>\n",
       "    <tr>\n",
       "      <th>0</th>\n",
       "      <td>-0.992044</td>\n",
       "      <td>1.817220</td>\n",
       "      <td>1.354893</td>\n",
       "      <td>-0.841408</td>\n",
       "    </tr>\n",
       "    <tr>\n",
       "      <th>1</th>\n",
       "      <td>0.930521</td>\n",
       "      <td>0.186072</td>\n",
       "      <td>0.930827</td>\n",
       "      <td>-1.076877</td>\n",
       "    </tr>\n",
       "    <tr>\n",
       "      <th>2</th>\n",
       "      <td>-1.761070</td>\n",
       "      <td>-0.357644</td>\n",
       "      <td>1.354893</td>\n",
       "      <td>0.885362</td>\n",
       "    </tr>\n",
       "    <tr>\n",
       "      <th>3</th>\n",
       "      <td>0.546008</td>\n",
       "      <td>0.306898</td>\n",
       "      <td>-0.447390</td>\n",
       "      <td>-1.076877</td>\n",
       "    </tr>\n",
       "    <tr>\n",
       "      <th>4</th>\n",
       "      <td>0.161495</td>\n",
       "      <td>-0.115993</td>\n",
       "      <td>-0.341374</td>\n",
       "      <td>1.277810</td>\n",
       "    </tr>\n",
       "  </tbody>\n",
       "</table>\n",
       "</div>"
      ],
      "text/plain": [
       "        age    weight    height  training time\n",
       "0 -0.992044  1.817220  1.354893      -0.841408\n",
       "1  0.930521  0.186072  0.930827      -1.076877\n",
       "2 -1.761070 -0.357644  1.354893       0.885362\n",
       "3  0.546008  0.306898 -0.447390      -1.076877\n",
       "4  0.161495 -0.115993 -0.341374       1.277810"
      ]
     },
     "execution_count": 38,
     "metadata": {},
     "output_type": "execute_result"
    }
   ],
   "source": [
    "# first step in PCA is to standarize the data, for this reason we gonna use StandardScaler from Scikit-learn\n",
    "from sklearn.preprocessing import StandardScaler\n",
    "scaler = StandardScaler()\n",
    "\n",
    "x = scaler.fit_transform(df1)\n",
    "\n",
    "df2 = pd.DataFrame(x, columns = df1.columns)\n",
    "df2.head()"
   ]
  },
  {
   "cell_type": "code",
   "execution_count": 9,
   "id": "cf5d5dba",
   "metadata": {},
   "outputs": [],
   "source": [
    "x_cov_matrix = np.cov (np.transpose(x_scaled))"
   ]
  },
  {
   "cell_type": "code",
   "execution_count": 10,
   "id": "e2aca687",
   "metadata": {},
   "outputs": [
    {
     "name": "stdout",
     "output_type": "stream",
     "text": [
      "[[ 1.02040816  0.0707885  -0.13092989 -0.08245984]\n",
      " [ 0.0707885   1.02040816  0.01240174 -0.11071772]\n",
      " [-0.13092989  0.01240174  1.02040816 -0.21480932]\n",
      " [-0.08245984 -0.11071772 -0.21480932  1.02040816]]\n"
     ]
    }
   ],
   "source": [
    "print(x_cov_matrix)"
   ]
  },
  {
   "cell_type": "markdown",
   "id": "d41027dc",
   "metadata": {},
   "source": [
    "# 3. Computing the eigenvalues and eigenvectors"
   ]
  },
  {
   "cell_type": "code",
   "execution_count": 11,
   "id": "ca22540f",
   "metadata": {},
   "outputs": [],
   "source": [
    "import numpy.linalg as np"
   ]
  },
  {
   "cell_type": "code",
   "execution_count": 53,
   "id": "6119b1db",
   "metadata": {},
   "outputs": [],
   "source": [
    "eigenvalues, eigenvectors = np.linalg.eig (x_cov_matrix)"
   ]
  },
  {
   "cell_type": "code",
   "execution_count": 54,
   "id": "a043015f",
   "metadata": {},
   "outputs": [
    {
     "name": "stdout",
     "output_type": "stream",
     "text": [
      "The eigenvalues are: [0.7245605  0.93232037 1.15747346 1.26727832]\n",
      "The eigenvectors are: [[-0.43320969  0.49791742 -0.75127007 -0.00095005]\n",
      " [-0.10334979 -0.80400317 -0.47283512 -0.34543405]\n",
      " [-0.64115554  0.09590333  0.43406632 -0.6255466 ]\n",
      " [-0.62495421 -0.31057963  0.15364462  0.6995469 ]]\n"
     ]
    }
   ],
   "source": [
    "print (f\"The eigenvalues are: {eigenvalues}\")\n",
    "print (f\"The eigenvectors are: {eigenvectors}\")"
   ]
  },
  {
   "cell_type": "markdown",
   "id": "25144d32",
   "metadata": {},
   "source": [
    "## a. Ordering the eigenvalues and eigenvectors\n",
    "\n",
    "Ordering eigenvalues (and their corresponding eigenvectors) in descending order is a critical step in Principal Component Analysis (PCA) and other eigenvalue problems. This is because the magnitude of each eigenvalue corresponds to the amount of variance that the principal component (eigenvector) captures from the data"
   ]
  },
  {
   "cell_type": "code",
   "execution_count": 56,
   "id": "b86cf471",
   "metadata": {},
   "outputs": [
    {
     "name": "stdout",
     "output_type": "stream",
     "text": [
      "eigen values [1.26727832 1.15747346 0.93232037 0.7245605 ]\n",
      "eigen vectors [[-0.62495421 -0.31057963  0.15364462  0.6995469 ]\n",
      " [-0.64115554  0.09590333  0.43406632 -0.6255466 ]\n",
      " [-0.10334979 -0.80400317 -0.47283512 -0.34543405]\n",
      " [-0.43320969  0.49791742 -0.75127007 -0.00095005]]\n"
     ]
    }
   ],
   "source": [
    "ordered_eigenvalues = eigenvalues[::-1]\n",
    "ordered_eigenvectors = eigenvectors[::-1]\n",
    "print (f\"eigen values {ordered_eigenvalues}\")\n",
    "print (f\"eigen vectors {ordered_eigenvectors}\")"
   ]
  },
  {
   "cell_type": "markdown",
   "id": "3f6a2408",
   "metadata": {},
   "source": [
    "## b. Get the percentage they represent"
   ]
  },
  {
   "cell_type": "code",
   "execution_count": 60,
   "id": "a441c842",
   "metadata": {},
   "outputs": [],
   "source": [
    "percentage = []\n",
    "sum_value = sum(ordered_eigenvalues)\n",
    "for i in ordered_eigenvalues:\n",
    "    percentage.append (100*(i/sum_value))"
   ]
  },
  {
   "cell_type": "code",
   "execution_count": 16,
   "id": "7c70f2cb",
   "metadata": {},
   "outputs": [
    {
     "name": "stdout",
     "output_type": "stream",
     "text": [
      "[31.04831882393681, 28.35809987907304, 22.84184904500862, 17.751732251981522]\n"
     ]
    }
   ],
   "source": [
    "print (percentage)"
   ]
  },
  {
   "cell_type": "code",
   "execution_count": 68,
   "id": "93bc91e8",
   "metadata": {},
   "outputs": [
    {
     "data": {
      "text/plain": [
       "(50, 4)"
      ]
     },
     "execution_count": 68,
     "metadata": {},
     "output_type": "execute_result"
    }
   ],
   "source": [
    "df2.shape"
   ]
  },
  {
   "cell_type": "markdown",
   "id": "60d99b87",
   "metadata": {},
   "source": [
    "Then the first eigenvalue represent 31.04% of the data\n",
    "\n",
    "The second represent 28.35%\n",
    "\n",
    "we will use the first two eigenvalues that represent 59.39% of the data"
   ]
  },
  {
   "cell_type": "code",
   "execution_count": 72,
   "id": "c725f6b7",
   "metadata": {},
   "outputs": [
    {
     "data": {
      "text/plain": [
       "(50, 2)"
      ]
     },
     "execution_count": 72,
     "metadata": {},
     "output_type": "execute_result"
    }
   ],
   "source": [
    "principal_components = ordered_eigenvectors[0:2,:]\n",
    "transformed_data = np.dot(df2, principal_components.T)\n",
    "\n",
    "transformed_data.shape"
   ]
  },
  {
   "cell_type": "markdown",
   "id": "fe3fcc40",
   "metadata": {},
   "source": [
    "## Visualising Data"
   ]
  },
  {
   "cell_type": "code",
   "execution_count": 73,
   "id": "70fb6b66",
   "metadata": {},
   "outputs": [
    {
     "data": {
      "text/plain": [
       "<function matplotlib.pyplot.show(close=None, block=None)>"
      ]
     },
     "execution_count": 73,
     "metadata": {},
     "output_type": "execute_result"
    },
    {
     "data": {
      "image/png": "[encoded data removed]",
      "text/plain": [
       "<Figure size 640x480 with 1 Axes>"
      ]
     },
     "metadata": {},
     "output_type": "display_data"
    }
   ],
   "source": [
    "from matplotlib import pyplot as plt\n",
    "\n",
    "plt.scatter(transformed_data[:,0], transformed_data[:,1])\n",
    "plt.xlabel('Principal Component 1')\n",
    "plt.ylabel('Principal Component 2')\n",
    "plt.title('PCA on dataset')\n",
    "plt.show"
   ]
  }
 ],
 "metadata": {
  "kernelspec": {
   "display_name": "Python 3 (ipykernel)",
   "language": "python",
   "name": "python3"
  },
  "language_info": {
   "codemirror_mode": {
    "name": "ipython",
    "version": 3
   },
   "file_extension": ".py",
   "mimetype": "text/x-python",
   "name": "python",
   "nbconvert_exporter": "python",
   "pygments_lexer": "ipython3",
   "version": "3.12.0"
  }
 },
 "nbformat": 4,
 "nbformat_minor": 5
}
